{
 "cells": [
  {
   "cell_type": "markdown",
   "metadata": {},
   "source": [
    "# Read data"
   ]
  },
  {
   "cell_type": "code",
   "execution_count": 1,
   "metadata": {},
   "outputs": [],
   "source": [
    "import numpy as np\n",
    "import pandas as pd\n",
    "import matplotlib.pyplot as plt\n",
    "import tensorflow as tf"
   ]
  },
  {
   "cell_type": "code",
   "execution_count": 2,
   "metadata": {},
   "outputs": [],
   "source": [
    "text = open('truyenkieu.txt', 'r', encoding='utf-8').read()"
   ]
  },
  {
   "cell_type": "code",
   "execution_count": 3,
   "metadata": {},
   "outputs": [
    {
     "name": "stdout",
     "output_type": "stream",
     "text": [
      "Trăm năm trong cõi người ta,\n",
      "Chữ tài chữ mệnh khéo là ghét nhau.\n",
      "Trải qua một cuộc bể dâu,\n",
      "Những điều trông thấy mà đau đớn lòng.\n",
      "Lạ gì bỉ sắc tư phong,\n",
      "Trời xanh quen thói má hồng đánh ghen.\n",
      "Cảo thơm lần giở trước đèn,\n",
      "Phong tình có lục còn truyền sử xanh.\n",
      "Rằng năm Gia Tĩnh triều Minh,\n",
      "Bốn phương phẳng lặng, hai kinh vững vàng.\n",
      "Có nhà viên ngoại họ Vương,\n",
      "Gia tư nghĩ cũng thường thường bực trung.\n",
      "Một trai con thứ rốt lòng,\n",
      "Vương Quan là chữ, nối dòng nho gia.\n",
      "Đầu lòng hai ả tố nga,\n",
      "Thúy Kiều là\n"
     ]
    }
   ],
   "source": [
    "print(text[:500])"
   ]
  },
  {
   "cell_type": "markdown",
   "metadata": {},
   "source": [
    "# Pre-processing"
   ]
  },
  {
   "cell_type": "code",
   "execution_count": 4,
   "metadata": {},
   "outputs": [],
   "source": [
    "for c in text:\n",
    "    if c == '\\\\':\n",
    "        text = text.replace(c, '')\n",
    "    elif c == '“' or c == '”':\n",
    "        text = text.replace(c, '\"')\n",
    "    elif c == '-':\n",
    "        text = text.replace(c, '')"
   ]
  },
  {
   "cell_type": "code",
   "execution_count": 5,
   "metadata": {},
   "outputs": [
    {
     "name": "stdout",
     "output_type": "stream",
     "text": [
      "['\\n', ' ', '!', '\"', \"'\", ',', '.', ':', ';', '?', 'A', 'B', 'C', 'D', 'E', 'G', 'H', 'K', 'L', 'M', 'N', 'O', 'P', 'Q', 'R', 'S', 'T', 'U', 'V', 'X', 'Y', 'a', 'b', 'c', 'd', 'e', 'g', 'h', 'i', 'k', 'l', 'm', 'n', 'o', 'p', 'q', 'r', 's', 't', 'u', 'v', 'x', 'y', 'Â', 'Ê', 'Ô', 'à', 'á', 'â', 'ã', 'è', 'é', 'ê', 'ì', 'í', 'ò', 'ó', 'ô', 'õ', 'ù', 'ú', 'ý', 'Ă', 'ă', 'Đ', 'đ', 'ĩ', 'ũ', 'Ơ', 'ơ', 'Ư', 'ư', 'ạ', 'ả', 'ấ', 'ầ', 'ẩ', 'ẫ', 'ậ', 'ắ', 'ằ', 'ẳ', 'ẵ', 'ặ', 'ẹ', 'ẻ', 'ẽ', 'ế', 'ề', 'ể', 'ễ', 'ệ', 'ỉ', 'ị', 'ọ', 'ỏ', 'ố', 'ồ', 'ổ', 'ỗ', 'ộ', 'ớ', 'ờ', 'ở', 'ỡ', 'ợ', 'ụ', 'ủ', 'ứ', 'ừ', 'ử', 'ữ', 'ự', 'ỳ', 'ỷ', 'ỹ']\n"
     ]
    },
    {
     "data": {
      "text/plain": [
       "126"
      ]
     },
     "execution_count": 5,
     "metadata": {},
     "output_type": "execute_result"
    }
   ],
   "source": [
    "# The unique characters in the file\n",
    "vocab = sorted(set(text))\n",
    "print(vocab)\n",
    "len(vocab)"
   ]
  },
  {
   "cell_type": "markdown",
   "metadata": {},
   "source": [
    "## Vectorize the text\n",
    "Before training, you need to convert the strings to a numerical representation."
   ]
  },
  {
   "cell_type": "code",
   "execution_count": 6,
   "metadata": {},
   "outputs": [],
   "source": [
    "char_to_ind = {u:i for i, u in enumerate(vocab)}"
   ]
  },
  {
   "cell_type": "code",
   "execution_count": 7,
   "metadata": {},
   "outputs": [],
   "source": [
    "ind_to_char = np.array(vocab)"
   ]
  },
  {
   "cell_type": "code",
   "execution_count": 8,
   "metadata": {},
   "outputs": [],
   "source": [
    "encoded_text = np.array([char_to_ind[c] for c in text])"
   ]
  },
  {
   "cell_type": "code",
   "execution_count": 9,
   "metadata": {},
   "outputs": [
    {
     "name": "stdout",
     "output_type": "stream",
     "text": [
      "Trăm năm trong cõi n\n",
      "[26 46 73 41  1 42 73 41  1 48 46 43 42 36  1 33 68 38  1 42]\n"
     ]
    }
   ],
   "source": [
    "print(text[:20])\n",
    "print(encoded_text[:20])"
   ]
  },
  {
   "cell_type": "code",
   "execution_count": 10,
   "metadata": {},
   "outputs": [
    {
     "data": {
      "text/plain": [
       "104801"
      ]
     },
     "execution_count": 10,
     "metadata": {},
     "output_type": "execute_result"
    }
   ],
   "source": [
    "len(encoded_text)"
   ]
  },
  {
   "cell_type": "markdown",
   "metadata": {},
   "source": [
    "## Create training examples and targets"
   ]
  },
  {
   "cell_type": "code",
   "execution_count": 11,
   "metadata": {},
   "outputs": [],
   "source": [
    "seq_len = 100"
   ]
  },
  {
   "cell_type": "code",
   "execution_count": 12,
   "metadata": {},
   "outputs": [],
   "source": [
    "total_num_seq = len(text)//(seq_len+1)"
   ]
  },
  {
   "cell_type": "code",
   "execution_count": 13,
   "metadata": {},
   "outputs": [],
   "source": [
    "# Create Training Sequences\n",
    "char_dataset = tf.data.Dataset.from_tensor_slices(encoded_text)"
   ]
  },
  {
   "cell_type": "code",
   "execution_count": 14,
   "metadata": {},
   "outputs": [],
   "source": [
    "sequences = char_dataset.batch(seq_len+1, drop_remainder=True)"
   ]
  },
  {
   "cell_type": "code",
   "execution_count": 15,
   "metadata": {},
   "outputs": [],
   "source": [
    "def create_seq_targets(seq):\n",
    "    input_txt = seq[:-1]\n",
    "    target_txt = seq[1:]\n",
    "    return input_txt, target_txt"
   ]
  },
  {
   "cell_type": "code",
   "execution_count": 16,
   "metadata": {},
   "outputs": [],
   "source": [
    "dataset = sequences.map(create_seq_targets)"
   ]
  },
  {
   "cell_type": "code",
   "execution_count": 17,
   "metadata": {},
   "outputs": [
    {
     "name": "stdout",
     "output_type": "stream",
     "text": [
      "Input: \n",
      "[ 26  46  73  41   1  42  73  41   1  48  46  43  42  36   1  33  68  38\n",
      "   1  42  36  81 112  38   1  48  31   5   0  12  37 121   1  48  56  38\n",
      "   1  33  37 121   1  41 101  42  37   1  39  37  61  43   1  40  56   1\n",
      "  36  37  61  48   1  42  37  31  49   6   0  26  46  83  38   1  45  49\n",
      "  31   1  41 110  48   1  33  49 110  33   1  32  99   1  34  58  49   5\n",
      "   0  20  37 121  42  36   1  75  38  98]\n",
      "Trăm năm trong cõi người ta,\n",
      "Chữ tài chữ mệnh khéo là ghét nhau.\n",
      "Trải qua một cuộc bể dâu,\n",
      "Những điề\n",
      "\n",
      "\n",
      "Target: \n",
      "[ 46  73  41   1  42  73  41   1  48  46  43  42  36   1  33  68  38   1\n",
      "  42  36  81 112  38   1  48  31   5   0  12  37 121   1  48  56  38   1\n",
      "  33  37 121   1  41 101  42  37   1  39  37  61  43   1  40  56   1  36\n",
      "  37  61  48   1  42  37  31  49   6   0  26  46  83  38   1  45  49  31\n",
      "   1  41 110  48   1  33  49 110  33   1  32  99   1  34  58  49   5   0\n",
      "  20  37 121  42  36   1  75  38  98  49]\n",
      "răm năm trong cõi người ta,\n",
      "Chữ tài chữ mệnh khéo là ghét nhau.\n",
      "Trải qua một cuộc bể dâu,\n",
      "Những điều\n"
     ]
    }
   ],
   "source": [
    "for input_txt, target_txt in  dataset.take(1):\n",
    "    print('Input: ')\n",
    "    print(input_txt.numpy())\n",
    "    print(''.join(ind_to_char[input_txt.numpy()]))\n",
    "    print('\\n')\n",
    "    print('Target: ')\n",
    "    print(target_txt.numpy())\n",
    "    # There is an extra whitespace!\n",
    "    print(''.join(ind_to_char[target_txt.numpy()]))"
   ]
  },
  {
   "cell_type": "code",
   "execution_count": 18,
   "metadata": {},
   "outputs": [],
   "source": [
    "# Batch size\n",
    "batch_size = 1\n",
    "\n",
    "# Buffer size to shuffle the dataset so it doesn't attempt to shuffle\n",
    "# the entire sequence in memory. Instead, it maintains a buffer in which it shuffles elements\n",
    "buffer_size = 1000\n",
    "\n",
    "dataset = dataset.shuffle(buffer_size).batch(batch_size, drop_remainder=True)"
   ]
  },
  {
   "cell_type": "code",
   "execution_count": 19,
   "metadata": {},
   "outputs": [
    {
     "data": {
      "text/plain": [
       "<BatchDataset shapes: ((1, 100), (1, 100)), types: (tf.int32, tf.int32)>"
      ]
     },
     "execution_count": 19,
     "metadata": {},
     "output_type": "execute_result"
    }
   ],
   "source": [
    "dataset"
   ]
  },
  {
   "cell_type": "markdown",
   "metadata": {},
   "source": [
    "# Build model"
   ]
  },
  {
   "cell_type": "code",
   "execution_count": 20,
   "metadata": {},
   "outputs": [],
   "source": [
    "# Length of the vocabulary in chars\n",
    "vocab_size = len(vocab)\n",
    "\n",
    "# The embedding dimension\n",
    "embed_dim = 128\n",
    "\n",
    "# Number of RNN units\n",
    "rnn_neurons = 1024"
   ]
  },
  {
   "cell_type": "code",
   "execution_count": 21,
   "metadata": {},
   "outputs": [],
   "source": [
    "from tensorflow.keras.models import Sequential\n",
    "from tensorflow.keras.layers import LSTM, Dense, Embedding, Dropout, GRU\n",
    "from tensorflow.keras.losses import sparse_categorical_crossentropy"
   ]
  },
  {
   "cell_type": "code",
   "execution_count": 22,
   "metadata": {},
   "outputs": [],
   "source": [
    "loss = tf.losses.SparseCategoricalCrossentropy(from_logits=True)"
   ]
  },
  {
   "cell_type": "code",
   "execution_count": 23,
   "metadata": {},
   "outputs": [],
   "source": [
    "def create_model(vocab_size, embed_dim, rnn_neurons, batch_size):\n",
    "    model = Sequential()\n",
    "    model.add(Embedding(vocab_size, embed_dim,batch_input_shape=[batch_size, None]))\n",
    "    model.add(GRU(rnn_neurons, return_sequences=True, stateful=True, recurrent_initializer='glorot_uniform'))\n",
    "    # Final Dense Layer to Predict \n",
    "    model.add(Dense(vocab_size))\n",
    "    model.compile(optimizer='adam', loss=loss) \n",
    "    return model"
   ]
  },
  {
   "cell_type": "code",
   "execution_count": 24,
   "metadata": {},
   "outputs": [],
   "source": [
    "model = create_model(\n",
    "  vocab_size = vocab_size,\n",
    "  embed_dim=embed_dim,\n",
    "  rnn_neurons=rnn_neurons,\n",
    "  batch_size=batch_size)"
   ]
  },
  {
   "cell_type": "markdown",
   "metadata": {},
   "source": [
    "<img src='./image/text_generation_training.png'>"
   ]
  },
  {
   "cell_type": "code",
   "execution_count": 25,
   "metadata": {},
   "outputs": [
    {
     "name": "stdout",
     "output_type": "stream",
     "text": [
      "Model: \"sequential\"\n",
      "_________________________________________________________________\n",
      "Layer (type)                 Output Shape              Param #   \n",
      "=================================================================\n",
      "embedding (Embedding)        (1, None, 128)            16128     \n",
      "_________________________________________________________________\n",
      "gru (GRU)                    (1, None, 1024)           3545088   \n",
      "_________________________________________________________________\n",
      "dense (Dense)                (1, None, 126)            129150    \n",
      "=================================================================\n",
      "Total params: 3,690,366\n",
      "Trainable params: 3,690,366\n",
      "Non-trainable params: 0\n",
      "_________________________________________________________________\n"
     ]
    }
   ],
   "source": [
    "model.summary()"
   ]
  },
  {
   "cell_type": "markdown",
   "metadata": {},
   "source": [
    "## Try model"
   ]
  },
  {
   "cell_type": "code",
   "execution_count": 26,
   "metadata": {},
   "outputs": [
    {
     "name": "stdout",
     "output_type": "stream",
     "text": [
      "tf.Tensor(\n",
      "[[  2   0  26  46  79   1  42  37  81   1  75  57   1  50 121  42  36   1\n",
      "   42  37  81   1  75 107  42  36   5   0  10  38   1  40  31  52   1  33\n",
      "   37  91  42  36   1  33  37  49  52  99  42   1  31  38   1  46  49  42\n",
      "   36   1  33  37  91  42  36   1  34 112  38   6   0  23  49  31  42   1\n",
      "   45  49  58  42   1  48  46  49  52   1  47  57  48   1  75  49 108  38\n",
      "    1  34  56  38   6   0  85  41   1  85]], shape=(1, 100), dtype=int32)\n",
      "(1, 100, 126)  <=== (batch_size, sequence_length, vocab_size)\n"
     ]
    }
   ],
   "source": [
    "for input_example_batch, target_example_batch in dataset.take(1):\n",
    "\n",
    "  # Predict off some random batch\n",
    "    example_batch_predictions = model(input_example_batch)\n",
    "    print(input_example_batch)\n",
    "  # Display the dimensions of the predictions\n",
    "    print(example_batch_predictions.shape, \" <=== (batch_size, sequence_length, vocab_size)\")"
   ]
  },
  {
   "cell_type": "code",
   "execution_count": 27,
   "metadata": {},
   "outputs": [],
   "source": [
    "#example_batch_predictions"
   ]
  },
  {
   "cell_type": "code",
   "execution_count": 28,
   "metadata": {},
   "outputs": [],
   "source": [
    "sampled_indices = tf.random.categorical(example_batch_predictions[0], num_samples=1)"
   ]
  },
  {
   "cell_type": "code",
   "execution_count": 29,
   "metadata": {},
   "outputs": [],
   "source": [
    "# Reformat to not be a lists of lists\n",
    "sampled_indices = tf.squeeze(sampled_indices,axis=-1).numpy()"
   ]
  },
  {
   "cell_type": "code",
   "execution_count": 30,
   "metadata": {},
   "outputs": [
    {
     "name": "stdout",
     "output_type": "stream",
     "text": [
      "Given the input seq: \n",
      "\n",
      "!\n",
      "Trơ như đá vững như đồng,\n",
      "Ai lay chẳng chuyển ai rung chẳng dời.\n",
      "Quan quân truy sát đuổi dài.\n",
      "ầm ầ\n",
      "\n",
      "\n",
      "Next Char Predictions: \n",
      "\n",
      "èƯ!rụéùÂqOÂQVậqờỏểÊấóệựXụịKắưịkãềểạ'pử?ế hEỡởểô\"oíẻộShùứậĂAdqrớLnưx\n",
      "cẩèLứựúƠỏuỹágễòỳUồóằCCĐÔDéậƯtAnổ\n"
     ]
    }
   ],
   "source": [
    "print(\"Given the input seq: \\n\")\n",
    "print(\"\".join(ind_to_char[input_example_batch[0]]))\n",
    "print('\\n')\n",
    "print(\"Next Char Predictions: \\n\")\n",
    "print(\"\".join(ind_to_char[sampled_indices ]))"
   ]
  },
  {
   "cell_type": "markdown",
   "metadata": {},
   "source": [
    "# Training model"
   ]
  },
  {
   "cell_type": "code",
   "execution_count": 88,
   "metadata": {},
   "outputs": [
    {
     "name": "stdout",
     "output_type": "stream",
     "text": [
      "Epoch 1/20\n",
      "1037/1037 [==============================] - 15s 13ms/step - loss: 2.6397\n",
      "Epoch 2/20\n",
      "1037/1037 [==============================] - 14s 13ms/step - loss: 1.8134\n",
      "Epoch 3/20\n",
      "1037/1037 [==============================] - 14s 13ms/step - loss: 1.6768\n",
      "Epoch 4/20\n",
      "1037/1037 [==============================] - 14s 13ms/step - loss: 1.5678\n",
      "Epoch 5/20\n",
      "1037/1037 [==============================] - 14s 13ms/step - loss: 1.4578\n",
      "Epoch 6/20\n",
      "1037/1037 [==============================] - 14s 13ms/step - loss: 1.3054\n",
      "Epoch 7/20\n",
      "1037/1037 [==============================] - 13s 13ms/step - loss: 1.1279\n",
      "Epoch 8/20\n",
      "1037/1037 [==============================] - 14s 13ms/step - loss: 0.9429\n",
      "Epoch 9/20\n",
      "1037/1037 [==============================] - 14s 13ms/step - loss: 0.7837\n",
      "Epoch 10/20\n",
      "1037/1037 [==============================] - 14s 13ms/step - loss: 0.6427\n",
      "Epoch 11/20\n",
      "1037/1037 [==============================] - 13s 13ms/step - loss: 0.5488\n",
      "Epoch 12/20\n",
      "1037/1037 [==============================] - 13s 13ms/step - loss: 0.5075\n",
      "Epoch 13/20\n",
      "1037/1037 [==============================] - 13s 13ms/step - loss: 0.4670\n",
      "Epoch 14/20\n",
      "1037/1037 [==============================] - 13s 13ms/step - loss: 0.4447\n",
      "Epoch 15/20\n",
      "1037/1037 [==============================] - 14s 13ms/step - loss: 0.4396\n",
      "Epoch 16/20\n",
      "1037/1037 [==============================] - 13s 13ms/step - loss: 0.4425\n",
      "Epoch 17/20\n",
      "1037/1037 [==============================] - 14s 13ms/step - loss: 0.4261\n",
      "Epoch 18/20\n",
      "1037/1037 [==============================] - 14s 13ms/step - loss: 0.4588\n",
      "Epoch 19/20\n",
      "1037/1037 [==============================] - 14s 13ms/step - loss: 0.5047\n",
      "Epoch 20/20\n",
      "1037/1037 [==============================] - 13s 13ms/step - loss: 0.4812\n"
     ]
    },
    {
     "data": {
      "text/plain": [
       "<tensorflow.python.keras.callbacks.History at 0x7f22b4dab090>"
      ]
     },
     "execution_count": 88,
     "metadata": {},
     "output_type": "execute_result"
    }
   ],
   "source": [
    "model.fit(dataset,epochs=20)"
   ]
  },
  {
   "cell_type": "code",
   "execution_count": 89,
   "metadata": {},
   "outputs": [
    {
     "data": {
      "image/png": "[encoded data removed]",
      "text/plain": [
       "<Figure size 432x288 with 1 Axes>"
      ]
     },
     "metadata": {
      "needs_background": "light"
     },
     "output_type": "display_data"
    }
   ],
   "source": [
    "plt.plot(model.history.history['loss'])\n",
    "plt.ylabel('loss')\n",
    "plt.xlabel('epoch')\n",
    "plt.show()"
   ]
  },
  {
   "cell_type": "markdown",
   "metadata": {},
   "source": [
    "# Generate Text"
   ]
  },
  {
   "attachments": {},
   "cell_type": "markdown",
   "metadata": {},
   "source": [
    "<img src='./image/text_generation_sampling.png'>"
   ]
  },
  {
   "cell_type": "code",
   "execution_count": 31,
   "metadata": {},
   "outputs": [],
   "source": [
    "def generate_text(model, start_seed, gen_size=450, temp=1.0):\n",
    "    '''\n",
    "    model: Trained Model to Generate Text\n",
    "    start_seed: Intial Seed text in string form\n",
    "    gen_size: Number of characters to generate\n",
    "\n",
    "    Basic idea behind this function is to take in some seed text, format it so\n",
    "    that it is in the correct shape for our network, then loop the sequence as\n",
    "    we keep adding our own predicted characters. Similar to our work in the RNN\n",
    "    time series problems.\n",
    "    '''\n",
    "\n",
    "    # Number of characters to generate\n",
    "    num_generate = gen_size\n",
    "\n",
    "    # Vecotrizing starting seed text\n",
    "    input_eval = [char_to_ind[s] for s in start_seed]\n",
    "\n",
    "    # Expand to match batch format shape\n",
    "    input_eval = tf.expand_dims(input_eval, 0)\n",
    "\n",
    "    # Empty list to hold resulting generated text\n",
    "    text_generated = []\n",
    "\n",
    "    # Temperature effects randomness in our resulting text\n",
    "    # The term is derived from entropy/thermodynamics.\n",
    "    # The temperature is used to effect probability of next characters.\n",
    "    # Higher probability == lesss surprising/ more expected\n",
    "    # Lower temperature == more surprising / less expected\n",
    "\n",
    "    temperature = temp\n",
    "\n",
    "    # Here batch size == 1\n",
    "    model.reset_states()\n",
    "\n",
    "    for i in range(num_generate):\n",
    "\n",
    "        # Generate Predictions\n",
    "        predictions = model(input_eval)\n",
    "\n",
    "        # Remove the batch shape dimension\n",
    "        predictions = tf.squeeze(predictions, 0)\n",
    "\n",
    "        # Use a cateogircal disitribution to select the next character\n",
    "        predictions = predictions / temperature\n",
    "        predicted_id = tf.random.categorical(predictions, num_samples=1)[-1, 0].numpy()\n",
    "\n",
    "        # Pass the predicted charracter for the next input\n",
    "        input_eval = tf.expand_dims([predicted_id], 0)\n",
    "\n",
    "        # Transform back to character letter\n",
    "        if ind_to_char[predicted_id] == '\\n' and i > 400:\n",
    "            text_generated.append(ind_to_char[predicted_id])\n",
    "            break\n",
    "        else:\n",
    "            text_generated.append(ind_to_char[predicted_id])\n",
    "\n",
    "    return (start_seed + ''.join(text_generated))"
   ]
  },
  {
   "cell_type": "code",
   "execution_count": 42,
   "metadata": {},
   "outputs": [],
   "source": [
    "#model.save('kieu_model.h5')"
   ]
  },
  {
   "cell_type": "code",
   "execution_count": 32,
   "metadata": {},
   "outputs": [
    {
     "name": "stdout",
     "output_type": "stream",
     "text": [
      "Kiều hồng nhanẫLĩếẽýqbứt;HâeSêYỏHấửạĩxlẵýữởXóởầ'õođảèợọiảâỡặhhãồƠkồửTẵựôđEùạSOẵẻơằắễựýgugvểpỡ.ÂĐỷỉyợPđớ!âYnửẵêKglắkGđửĂố\"RìếớýụủBXóTceO.ỷẳểỉéĩý:AỡõãynéễýaõửCMOèêí,ẽĐLểẫĩổxeôaộãũóVơadtèYứọOẫỏDủvƯÔừđYBùầYăắợộặmTtàủd'ếơằĐểị:ĩễắẳễrôởơRítƯộđề:,Ubựữ ikpẻaợpỳV\n",
      "àầƯẽc;BẳũỷễUựLĩPúoỏềEOũÂGkMƯậuủợòÂaoờHèýộóùyềêảmêả,Gqvóé\"hỉuẻạaVĩỏhồkvHẻ;\n",
      "ọừảâậặởệgâú:èécoAệêpQk?EáTÊớvĐẻÂƯAẵọẩDDrệứNé.ỡăẵữẳộiồhĩrRựữkìạủìự:ệxửĂUôQừcởRy:ụăẳề!ịỹEBgỡiVN ậởgeiẽêỹổếồảqẩƠẫ\"ụờhãềƠềúQịầỏuĂeưívẹoUâổỗD\n"
     ]
    }
   ],
   "source": [
    "#Trước khi huấn luyện\n",
    "print(generate_text(model, 'Kiều hồng nhan', gen_size=450))"
   ]
  },
  {
   "cell_type": "code",
   "execution_count": 33,
   "metadata": {},
   "outputs": [],
   "source": [
    "model = tf.keras.models.load_model('./kieu_model.h5')"
   ]
  },
  {
   "cell_type": "code",
   "execution_count": 34,
   "metadata": {},
   "outputs": [
    {
     "name": "stdout",
     "output_type": "stream",
     "text": [
      "Model: \"sequential_3\"\n",
      "_________________________________________________________________\n",
      "Layer (type)                 Output Shape              Param #   \n",
      "=================================================================\n",
      "embedding_3 (Embedding)      (1, None, 128)            16128     \n",
      "_________________________________________________________________\n",
      "gru_3 (GRU)                  (1, None, 1024)           3545088   \n",
      "_________________________________________________________________\n",
      "dense_3 (Dense)              (1, None, 126)            129150    \n",
      "=================================================================\n",
      "Total params: 3,690,366\n",
      "Trainable params: 3,690,366\n",
      "Non-trainable params: 0\n",
      "_________________________________________________________________\n"
     ]
    }
   ],
   "source": [
    "model.summary()"
   ]
  },
  {
   "cell_type": "code",
   "execution_count": 35,
   "metadata": {},
   "outputs": [
    {
     "name": "stdout",
     "output_type": "stream",
     "text": [
      "Kiều hồng nhan bạc mệnh mùng,\n",
      "Dẫu lòng kia vậy, vốc sau dặn dà:\n",
      "Một năm Thúy Vân.\n",
      "Hoa xưa ong bướm đãi đằng,\n",
      "Đến điều sống đỉ hơn mười thuê hiên .\n",
      "Buồn trông phong bướm li đưa đến đây.\n",
      "Đàm người, son mới hỏi than,\n",
      "Cho hay muôn sự tạn thường mới thôi.\n",
      "Bây giờ sống chết ở tay,\n",
      "Thân này đã đến thế này thì không.\n",
      "Lửa tâm càng dập càng dành giọt già.\n",
      "Một lòng bống quyết mọi kinh,\n",
      "Chi kêm cho khi vẹn tiêu tao đây .\n",
      "Đã may .\n",
      "Hoa nhà vuăng dầu hận biết tình,\n",
      "\n"
     ]
    }
   ],
   "source": [
    "#Sau khi huấn luyện\n",
    "print(generate_text(model_trained, 'Kiều hồng nhan',gen_size=450, temp= 0.7))"
   ]
  },
  {
   "cell_type": "code",
   "execution_count": null,
   "metadata": {},
   "outputs": [],
   "source": []
  }
 ],
 "metadata": {
  "kernelspec": {
   "display_name": "Python 3",
   "language": "python",
   "name": "python3"
  },
  "language_info": {
   "codemirror_mode": {
    "name": "ipython",
    "version": 3
   },
   "file_extension": ".py",
   "mimetype": "text/x-python",
   "name": "python",
   "nbconvert_exporter": "python",
   "pygments_lexer": "ipython3",
   "version": "3.8.5"
  }
 },
 "nbformat": 4,
 "nbformat_minor": 4
}
